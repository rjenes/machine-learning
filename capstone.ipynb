#!/usr/bin/env python
# coding: utf-8

# <a> <img src="http://www.brainlesstales.com/images/2013/Jun/capstone.jpg" width="400" align="center"></a>
# 
# <h1 align= "center"> IBM Data Science Specialization Capstone Notebook </h1>
# 
# 

# This notebook will be used to perform the needed tasks, in order to finish the IBM Data Science Specialization, taken in the learning platform Coursera.
# 
# We start by importing the needed libraries and afterwards we load the given dataset, perform the pre-processing and lastly we build a clustering model and evaluate it.

# ### Import the Libraries

# In[4]:


import pandas as pd
import numpy as np


# In[6]:


print("Hello Capstone Project Course")


# In[ ]:




